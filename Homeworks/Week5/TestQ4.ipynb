{
 "cells": [
  {
   "cell_type": "code",
   "execution_count": 1,
   "id": "a6933676",
   "metadata": {},
   "outputs": [],
   "source": [
    "import requests"
   ]
  },
  {
   "cell_type": "code",
   "execution_count": 2,
   "id": "6ed5e099",
   "metadata": {},
   "outputs": [],
   "source": [
    "url = 'http://localhost:4545/predict'"
   ]
  },
  {
   "cell_type": "code",
   "execution_count": 3,
   "id": "3c0a4f0f",
   "metadata": {},
   "outputs": [],
   "source": [
    "client = {\n",
    "    \"reports\": 0,\n",
    "    \"share\": 0.245,\n",
    "    \"expenditure\": 3.438,\n",
    "    \"owner\": \"yes\"\n",
    "}"
   ]
  },
  {
   "cell_type": "code",
   "execution_count": 7,
   "id": "37b2e815",
   "metadata": {},
   "outputs": [
    {
     "data": {
      "text/plain": [
       "{'get_card': True, 'get_card_probability': 0.9282218018527452}"
      ]
     },
     "execution_count": 7,
     "metadata": {},
     "output_type": "execute_result"
    }
   ],
   "source": [
    "result = requests.post(url, json=client).json()\n",
    "result"
   ]
  },
  {
   "cell_type": "code",
   "execution_count": null,
   "id": "fe2e77da",
   "metadata": {},
   "outputs": [],
   "source": []
  }
 ],
 "metadata": {
  "kernelspec": {
   "display_name": "Python 3 (ipykernel)",
   "language": "python",
   "name": "python3"
  },
  "language_info": {
   "codemirror_mode": {
    "name": "ipython",
    "version": 3
   },
   "file_extension": ".py",
   "mimetype": "text/x-python",
   "name": "python",
   "nbconvert_exporter": "python",
   "pygments_lexer": "ipython3",
   "version": "3.9.13"
  }
 },
 "nbformat": 4,
 "nbformat_minor": 5
}
